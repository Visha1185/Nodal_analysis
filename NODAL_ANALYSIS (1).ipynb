{
  "nbformat": 4,
  "nbformat_minor": 0,
  "metadata": {
    "colab": {
      "provenance": []
    },
    "kernelspec": {
      "name": "python3",
      "display_name": "Python 3"
    },
    "language_info": {
      "name": "python"
    }
  },
  "cells": [
    {
      "cell_type": "markdown",
      "source": [],
      "metadata": {
        "id": "saC2vgA3mno3"
      }
    },
    {
      "cell_type": "code",
      "source": [
        "import numpy as np\n",
        "import pandas as pd\n",
        "import matplotlib.pyplot as plt\n",
        "import ipywidgets as widgets\n",
        "from ipywidgets import interact"
      ],
      "metadata": {
        "id": "vxVMQxSjT8Zb"
      },
      "execution_count": null,
      "outputs": []
    },
    {
      "cell_type": "code",
      "source": [
        "\n",
        "# IPR Data\n",
        "ipr = pd.DataFrame({\n",
        "    'Pwf': [4000,3500,3000,2500,2000,1500,1000,500,14.7],\n",
        "    'Q':   [0,1999,3094,3902,4512,4963,5275,5458,5519]\n",
        "})\n",
        "\n",
        "# TPR Data\n",
        "q = np.arange(1000,6500,500)\n",
        "p_190 = np.array([1334,1400,1487,1592,1712,1843,1984,2132,2287,2446,2609])\n",
        "p_2375 = np.array([1298,1320,1351,1390,1435,1487,1545,1609,1677,1749,1824])\n",
        "p_2875 = np.array([1286,1294,1305,1319,1336,1356,1378,1403,1431,1461,1493])\n",
        "\n",
        "tpr_base = {\n",
        "    '1.90\"': 'Pwf(1.90\" tbg)',\n",
        "    '2.375\"': 'Pwf(2.375\"tbg)',\n",
        "    '2.875\"': 'Pwf(2.875\"tbg)'\n",
        "}\n",
        "\n",
        "\n"
      ],
      "metadata": {
        "id": "-YUQ4R01YyCm"
      },
      "execution_count": null,
      "outputs": []
    },
    {
      "cell_type": "code",
      "source": [
        "# Interpolation function\n",
        "def interpolate_pressure(q_vals, pwf_vals, q_range):\n",
        "    return np.interp(q_range, q_vals, pwf_vals)\n",
        "\n",
        "def plot_nodal(wc, gor, skin, tubing_id):\n",
        "    plt.figure(figsize=(9, 6))\n",
        "\n",
        "    # Plot IPR\n",
        "    plt.plot(ipr['Q'], ipr['Pwf'], label=\"IPR\", color='black', linewidth=2)\n",
        "\n",
        "    # Adjust TPR\n",
        "    base_tpr_col = tpr_base[tubing_id]\n",
        "\n",
        "    base_tpr_values = tpr[base_tpr_col]\n",
        "\n",
        "    adj_factor = 1 + 0.002 * wc + 0.001 * gor + 0.05 * skin\n",
        "    tpr_adj = base_tpr_values * adj_factor\n",
        "    tpr_adj = np.clip(tpr_adj, a_min=0, a_max=None)\n",
        "\n",
        "\n",
        "    # Plot TPR\n",
        "    plt.plot(q, tpr_adj, label=f\"TPR {tubing_id}\", color='blue', linewidth=2)\n",
        "\n",
        "    # Interpolate\n",
        "    q_interp = np.linspace(q.min(), q.max(), 1000) # Interpolate over the range of q\n",
        "    ipr_interp = interpolate_pressure(ipr['Q'], ipr['Pwf'], q_interp)\n",
        "    tpr_interp = interpolate_pressure(q, tpr_adj, q_interp)\n",
        "\n",
        "    # Difference and thresholdn\n",
        "    min_len = min(len(ipr_interp), len(tpr_interp))\n",
        "    diff = np.abs(ipr_interp[:min_len] - tpr_interp[:min_len])\n",
        "    min_diff = np.min(diff)\n",
        "    idx = np.argmin(diff)\n",
        "\n",
        "    # If curves are close enough, mark intersection\n",
        "    if min_diff < 25:\n",
        "        q_opt = q_interp[idx]\n",
        "        p_opt = ipr_interp[idx]\n",
        "        plt.plot(q_opt, p_opt, 'ro', label=f'Optimum Rate ≈ {q_opt:.1f} Mscf/D\\n@ {p_opt:.1f} psia')\n",
        "    else:\n",
        "        print(\" No valid intersection found between IPR and TPR curves.\")\n",
        "\n",
        "\n",
        "    plt.xlabel('Flow Rate (Mscf/D)')\n",
        "    plt.ylabel('Flowing Bottomhole Pressure (psia)')\n",
        "    plt.title('Nodal Analysis with Sensitivity & Optimum Rate')\n",
        "    plt.grid(True)\n",
        "    plt.legend()\n",
        "    # plt.gca().invert_yaxis()\n",
        "    plt.tight_layout()\n",
        "    plt.show()\n",
        "\n",
        "\n",
        "# Sliders\n",
        "wc_slider = widgets.IntSlider(value=30, min=0, max=90, step=5, description='Water Cut (%)')\n",
        "gor_slider = widgets.IntSlider(value=800, min=100, max=2000, step=100, description='GOR (scf/bbl)')\n",
        "skin_slider = widgets.FloatSlider(value=0, min=-2.0, max=10.0, step=0.5, description='Skin')\n",
        "tubing_slider = widgets.Dropdown(options=[\"1.90\\\"\", \"2.375\\\"\", \"2.875\\\"\"], value=\"2.375\\\"\", description=\"Tubing ID\")\n",
        "\n",
        "interact(plot_nodal, wc=wc_slider, gor=gor_slider, skin=skin_slider, tubing_id=tubing_slider)"
      ],
      "metadata": {
        "id": "XQrbmxjjY-2e"
      },
      "execution_count": null,
      "outputs": []
    }
  ]
}